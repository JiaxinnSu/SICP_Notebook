{
 "cells": [
  {
   "cell_type": "markdown",
   "metadata": {},
   "source": [
    "# Modularity, Objects, and State"
   ]
  },
  {
   "cell_type": "code",
   "execution_count": 1,
   "metadata": {
    "vscode": {
     "languageId": "racket"
    }
   },
   "outputs": [],
   "source": [
    "; core framework of Streams\n",
    "; delay and force\n",
    "(define (memo-proc proc)\n",
    "  (let ((already-run? #f) (result #f))\n",
    "    (lambda ()\n",
    "      (if (not already-run?)\n",
    "          (begin (set! result (proc))\n",
    "                 (set! already-run? #t)\n",
    "                 result)\n",
    "          result))))\n",
    "(define (delay exp)\n",
    "  (memo-proc (lambda () exp)))\n",
    "(define (force delayed-object)\n",
    "  (delayed-object))\n",
    "; pair\n",
    "; cons\n",
    "(define (cons-stream a b)\n",
    "  (cons a (delay b)))\n",
    "; car\n",
    "(define (stream-car stream) (car stream))\n",
    "; cdr\n",
    "(define (stream-cdr stream) (force (cdr stream)))\n",
    ";assert null?\n",
    "(define (stream-null? s) (null? s))\n",
    "; null-value\n",
    "(define the-empty-stream '())\n",
    "; kth-element\n",
    "(define (stream-ref s n)\n",
    "  (if (= n 0)\n",
    "      (stream-car s)\n",
    "      (stream-ref (stream-cdr s) (- n 1))))\n",
    "; utilities\n",
    "(define (stream-for-each proc s)\n",
    "  (if (stream-null? s)\n",
    "      'done\n",
    "      (begin (proc (stream-car s))\n",
    "             (stream-for-each proc (stream-cdr s)))))\n",
    "(define (stream-enumerate-interval low high)\n",
    "  (if (> low high)\n",
    "      the-empty-stream\n",
    "      (cons-stream\n",
    "       low\n",
    "       (stream-enumerate-interval (+ low 1) high))))\n",
    "(define (stream-filter pred stream)\n",
    "  (cond ((stream-null? stream) the-empty-stream)\n",
    "        ((pred (stream-car stream))\n",
    "         (cons-stream (stream-car stream)\n",
    "                      (stream-filter pred\n",
    "                                     (stream-cdr stream))))\n",
    "        (else (stream-filter pred (stream-cdr stream)))))\n",
    "; print tools\n",
    "(define (display-line x)\n",
    "  (display x)\n",
    "  (newline))\n",
    "(define (show x)\n",
    "  (display-line x)\n",
    "  x)\n",
    "(define (display-stream s)\n",
    "  (stream-for-each display-line s))"
   ]
  },
  {
   "cell_type": "markdown",
   "metadata": {},
   "source": [
    "## Exercise 3.50\n",
    "Complete the following definition, which generalizes stream-map to allow procedures that take multiple arguments, analogous to map in section 2.2.3, footnote 12.\n",
    "```racket\n",
    "(define (stream-map proc . argstreams)\n",
    "  (if (<??> (car argstreams))\n",
    "      the-empty-stream\n",
    "      (<??>\n",
    "       (apply proc (map <??> argstreams))\n",
    "       (apply stream-map\n",
    "              (cons proc (map <??> argstreams))))))\n",
    "```"
   ]
  },
  {
   "cell_type": "markdown",
   "metadata": {},
   "source": [
    "### answer"
   ]
  },
  {
   "cell_type": "code",
   "execution_count": 2,
   "metadata": {
    "vscode": {
     "languageId": "racket"
    }
   },
   "outputs": [],
   "source": [
    "(define (stream-map proc . argstreams)\n",
    "  (if (stream-null? (car argstreams))\n",
    "      the-empty-stream\n",
    "      (cons-stream\n",
    "       (apply proc (map stream-car argstreams))\n",
    "       (apply stream-map\n",
    "              (cons proc (map stream-cdr argstreams))))))"
   ]
  },
  {
   "cell_type": "markdown",
   "metadata": {},
   "source": [
    "### test"
   ]
  },
  {
   "cell_type": "code",
   "execution_count": 3,
   "metadata": {
    "vscode": {
     "languageId": "racket"
    }
   },
   "outputs": [
    {
     "name": "stdout",
     "output_type": "stream",
     "text": [
      "4\n",
      "6\n"
     ]
    },
    {
     "data": {
      "text/html": [
       "<code>'done</code>"
      ],
      "text/plain": [
       "'done"
      ]
     },
     "execution_count": 3,
     "metadata": {},
     "output_type": "execute_result"
    }
   ],
   "source": [
    "; a (1 2) stream list add to a (3 4) stream list\n",
    "; get a (4 6) stream list\n",
    "(define sl \n",
    "        (stream-map + \n",
    "                    (cons-stream 1 (cons-stream 2 the-empty-stream))\n",
    "                    (cons-stream 3 (cons-stream 4 the-empty-stream))))\n",
    "(display-stream sl)"
   ]
  },
  {
   "cell_type": "markdown",
   "metadata": {},
   "source": [
    "## Exercise 3.51\n",
    "In order to take a closer look at delayed evaluation, we will use the following procedure, which simply returns its argument after printing it:\n",
    "```racket\n",
    "(define (show x)\n",
    "  (display-line x)\n",
    "  x)\n",
    "```\n",
    "What does the interpreter print in response to evaluating each expression in the following sequence?\n",
    "```racket\n",
    "(define x (stream-map show (stream-enumerate-interval 0 10)))\n",
    "(stream-ref x 5)\n",
    "(stream-ref x 7)\n",
    "```"
   ]
  },
  {
   "cell_type": "code",
   "execution_count": 4,
   "metadata": {
    "vscode": {
     "languageId": "racket"
    }
   },
   "outputs": [
    {
     "name": "stdout",
     "output_type": "stream",
     "text": [
      "0\n",
      "1\n",
      "2\n",
      "3\n",
      "4\n",
      "5\n",
      "6\n",
      "7\n",
      "8\n",
      "9\n",
      "10\n"
     ]
    }
   ],
   "source": [
    "(define x (stream-map show (stream-enumerate-interval 0 10)))"
   ]
  },
  {
   "cell_type": "code",
   "execution_count": 5,
   "metadata": {
    "vscode": {
     "languageId": "racket"
    }
   },
   "outputs": [
    {
     "data": {
      "text/html": [
       "<code>5</code>"
      ],
      "text/plain": [
       "5"
      ]
     },
     "execution_count": 5,
     "metadata": {},
     "output_type": "execute_result"
    }
   ],
   "source": [
    "(stream-ref x 5)"
   ]
  },
  {
   "cell_type": "code",
   "execution_count": 6,
   "metadata": {
    "vscode": {
     "languageId": "racket"
    }
   },
   "outputs": [
    {
     "data": {
      "text/html": [
       "<code>7</code>"
      ],
      "text/plain": [
       "7"
      ]
     },
     "execution_count": 6,
     "metadata": {},
     "output_type": "execute_result"
    }
   ],
   "source": [
    "(stream-ref x 7)"
   ]
  },
  {
   "cell_type": "markdown",
   "metadata": {},
   "source": [
    "Print `0` to `10`\n",
    "\n",
    "`(stream-ref x 5)` get the 5th element of the stream\n",
    "\n",
    "`(stream-ref x 7)` get the 7th element of the stream"
   ]
  },
  {
   "cell_type": "markdown",
   "metadata": {},
   "source": [
    "## Exercise 3.52\n",
    "Consider the sequence of expressions\n",
    "```racket\n",
    "(define sum 0)\n",
    "(define (accum x)\n",
    "  (set! sum (+ x sum))\n",
    "  sum)\n",
    "(define seq (stream-map accum (stream-enumerate-interval 1 20)))\n",
    "(define y (stream-filter even? seq))\n",
    "(define z (stream-filter (lambda (x) (= (remainder x 5) 0))\n",
    "                         seq))\n",
    "(stream-ref y 7)\n",
    "(display-stream z)\n",
    "```\n",
    "What is the value of `sum` after each of the above expressions is evaluated? What is the printed response to evaluating the `stream-ref` and `display-stream` expressions? Would these responses differ if we had implemented `(delay <exp>)` simply as `(lambda () <exp>)` without using the optimization provided by `memo-proc` ? Explain."
   ]
  },
  {
   "cell_type": "code",
   "execution_count": 7,
   "metadata": {
    "vscode": {
     "languageId": "racket"
    }
   },
   "outputs": [],
   "source": [
    "(define sum 0)\n",
    "(define (accum x)\n",
    "  (set! sum (+ x sum))\n",
    "  sum)\n",
    "(define seq (stream-map accum (stream-enumerate-interval 1 20)))\n",
    "(define y (stream-filter even? seq))\n",
    "(define z (stream-filter (lambda (x) (= (remainder x 5) 0))\n",
    "                         seq))"
   ]
  },
  {
   "cell_type": "code",
   "execution_count": 8,
   "metadata": {
    "vscode": {
     "languageId": "racket"
    }
   },
   "outputs": [
    {
     "data": {
      "text/html": [
       "<code>210</code>"
      ],
      "text/plain": [
       "210"
      ]
     },
     "execution_count": 8,
     "metadata": {},
     "output_type": "execute_result"
    }
   ],
   "source": [
    "sum"
   ]
  },
  {
   "cell_type": "code",
   "execution_count": 9,
   "metadata": {
    "vscode": {
     "languageId": "racket"
    }
   },
   "outputs": [
    {
     "data": {
      "text/html": [
       "<code>136</code>"
      ],
      "text/plain": [
       "136"
      ]
     },
     "execution_count": 9,
     "metadata": {},
     "output_type": "execute_result"
    }
   ],
   "source": [
    "(stream-ref y 7)"
   ]
  },
  {
   "cell_type": "code",
   "execution_count": 10,
   "metadata": {
    "vscode": {
     "languageId": "racket"
    }
   },
   "outputs": [
    {
     "name": "stdout",
     "output_type": "stream",
     "text": [
      "10\n",
      "15\n",
      "45\n",
      "55\n",
      "105\n",
      "120\n",
      "190\n",
      "210\n"
     ]
    },
    {
     "data": {
      "text/html": [
       "<code>'done</code>"
      ],
      "text/plain": [
       "'done"
      ]
     },
     "execution_count": 10,
     "metadata": {},
     "output_type": "execute_result"
    }
   ],
   "source": [
    "(display-stream z)"
   ]
  },
  {
   "cell_type": "code",
   "execution_count": 11,
   "metadata": {
    "vscode": {
     "languageId": "racket"
    }
   },
   "outputs": [],
   "source": [
    "(define (delay exp) (lambda () exp))"
   ]
  },
  {
   "cell_type": "code",
   "execution_count": 12,
   "metadata": {
    "vscode": {
     "languageId": "racket"
    }
   },
   "outputs": [],
   "source": [
    "(define sum 0)\n",
    "(define (accum x)\n",
    "  (set! sum (+ x sum))\n",
    "  sum)\n",
    "(define seq (stream-map accum (stream-enumerate-interval 1 20)))\n",
    "(define y (stream-filter even? seq))\n",
    "(define z (stream-filter (lambda (x) (= (remainder x 5) 0))\n",
    "                         seq))"
   ]
  },
  {
   "cell_type": "code",
   "execution_count": 13,
   "metadata": {
    "vscode": {
     "languageId": "racket"
    }
   },
   "outputs": [
    {
     "data": {
      "text/html": [
       "<code>210</code>"
      ],
      "text/plain": [
       "210"
      ]
     },
     "execution_count": 13,
     "metadata": {},
     "output_type": "execute_result"
    }
   ],
   "source": [
    "sum"
   ]
  },
  {
   "cell_type": "code",
   "execution_count": 14,
   "metadata": {
    "vscode": {
     "languageId": "racket"
    }
   },
   "outputs": [
    {
     "data": {
      "text/html": [
       "<code>136</code>"
      ],
      "text/plain": [
       "136"
      ]
     },
     "execution_count": 14,
     "metadata": {},
     "output_type": "execute_result"
    }
   ],
   "source": [
    "(stream-ref y 7)"
   ]
  },
  {
   "cell_type": "code",
   "execution_count": 15,
   "metadata": {
    "vscode": {
     "languageId": "racket"
    }
   },
   "outputs": [
    {
     "name": "stdout",
     "output_type": "stream",
     "text": [
      "10\n",
      "15\n",
      "45\n",
      "55\n",
      "105\n",
      "120\n",
      "190\n",
      "210\n"
     ]
    },
    {
     "data": {
      "text/html": [
       "<code>'done</code>"
      ],
      "text/plain": [
       "'done"
      ]
     },
     "execution_count": 15,
     "metadata": {},
     "output_type": "execute_result"
    }
   ],
   "source": [
    "(display-stream z)"
   ]
  },
  {
   "cell_type": "code",
   "execution_count": 16,
   "metadata": {
    "vscode": {
     "languageId": "racket"
    }
   },
   "outputs": [],
   "source": [
    "; reset delay\n",
    "(define (delay exp)\n",
    "  (memo-proc (lambda () exp)))"
   ]
  },
  {
   "cell_type": "markdown",
   "metadata": {},
   "source": [
    "`sum` will be 210.\n",
    "They will be the same, either with or without optimization."
   ]
  }
 ],
 "metadata": {
  "kernelspec": {
   "display_name": "Racket",
   "language": "racket",
   "name": "racket"
  },
  "language_info": {
   "codemirror_mode": "scheme",
   "file_extension": ".rkt",
   "mimetype": "text/x-racket",
   "name": "Racket",
   "pygments_lexer": "racket",
   "version": "8.4"
  },
  "orig_nbformat": 4
 },
 "nbformat": 4,
 "nbformat_minor": 2
}
