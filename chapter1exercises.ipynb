{
 "cells": [
  {
   "cell_type": "markdown",
   "metadata": {
    "pycharm": {
     "name": "#%% md\n"
    }
   },
   "source": [
    "# Building Abstractions with Procedures"
   ]
  },
  {
   "cell_type": "markdown",
   "metadata": {
    "pycharm": {
     "name": "#%% md\n"
    }
   },
   "source": [
    "## Exercise 1.1\n",
    "Below is a sequence of expressions. What is the result printed by the interpreter in response to each expression? Assume that the sequence is to be evaluated in the order in which it is presented\n",
    "```racket\n",
    "10\n",
    "(+ 5 3 4)\n",
    "(- 9 1)\n",
    "(/ 6 2)\n",
    "(+ (* 2 4) (- 4 6))\n",
    "(define a 3)\n",
    "(define b (+ a 1))\n",
    "(+ a b (* a b))\n",
    "(= a b)\n",
    "(if (and (> b a) (< b (* a b)))\n",
    "    b\n",
    "    a)\n",
    "(cond ((= a 4) 6)\n",
    "      ((= b 4) (+ 6 7 a))\n",
    "      (else 25))\n",
    "(+ 2 (if (> b a) b a))\n",
    "(* (cond ((> a b) a)\n",
    "         ((< a b) b)\n",
    "         (else -1))\n",
    "   (+ a 1))\n",
    "```"
   ]
  },
  {
   "cell_type": "code",
   "execution_count": 38,
   "metadata": {
    "pycharm": {
     "name": "#%%\n"
    },
    "vscode": {
     "languageId": "racket"
    }
   },
   "outputs": [
    {
     "data": {
      "text/html": [
       "<code>10</code>"
      ],
      "text/plain": [
       "10"
      ]
     },
     "execution_count": 38,
     "metadata": {},
     "output_type": "execute_result"
    }
   ],
   "source": [
    "10"
   ]
  },
  {
   "cell_type": "code",
   "execution_count": 39,
   "metadata": {
    "pycharm": {
     "name": "#%%\n"
    },
    "vscode": {
     "languageId": "racket"
    }
   },
   "outputs": [
    {
     "data": {
      "text/html": [
       "<code>12</code>"
      ],
      "text/plain": [
       "12"
      ]
     },
     "execution_count": 39,
     "metadata": {},
     "output_type": "execute_result"
    }
   ],
   "source": [
    "(+ 5 3 4)"
   ]
  },
  {
   "cell_type": "code",
   "execution_count": 40,
   "metadata": {
    "pycharm": {
     "name": "#%%\n"
    },
    "vscode": {
     "languageId": "racket"
    }
   },
   "outputs": [
    {
     "data": {
      "text/html": [
       "<code>8</code>"
      ],
      "text/plain": [
       "8"
      ]
     },
     "execution_count": 40,
     "metadata": {},
     "output_type": "execute_result"
    }
   ],
   "source": [
    "(- 9 1)"
   ]
  },
  {
   "cell_type": "code",
   "execution_count": 41,
   "metadata": {
    "pycharm": {
     "name": "#%%\n"
    },
    "vscode": {
     "languageId": "racket"
    }
   },
   "outputs": [
    {
     "data": {
      "text/html": [
       "<code>3</code>"
      ],
      "text/plain": [
       "3"
      ]
     },
     "execution_count": 41,
     "metadata": {},
     "output_type": "execute_result"
    }
   ],
   "source": [
    "(/ 6 2)"
   ]
  },
  {
   "cell_type": "code",
   "execution_count": 42,
   "metadata": {
    "pycharm": {
     "name": "#%%\n"
    },
    "vscode": {
     "languageId": "racket"
    }
   },
   "outputs": [
    {
     "data": {
      "text/html": [
       "<code>6</code>"
      ],
      "text/plain": [
       "6"
      ]
     },
     "execution_count": 42,
     "metadata": {},
     "output_type": "execute_result"
    }
   ],
   "source": [
    "(+ (* 2 4) (- 4 6))"
   ]
  },
  {
   "cell_type": "code",
   "execution_count": 43,
   "metadata": {
    "pycharm": {
     "name": "#%%\n"
    },
    "vscode": {
     "languageId": "racket"
    }
   },
   "outputs": [
    {
     "data": {
      "text/html": [
       "<code>19</code>"
      ],
      "text/plain": [
       "19"
      ]
     },
     "execution_count": 43,
     "metadata": {},
     "output_type": "execute_result"
    }
   ],
   "source": [
    "(define a 3)\n",
    "(define b (+ a 1))\n",
    "(+ a b (* a b))"
   ]
  },
  {
   "cell_type": "code",
   "execution_count": 44,
   "metadata": {
    "pycharm": {
     "name": "#%%\n"
    },
    "vscode": {
     "languageId": "racket"
    }
   },
   "outputs": [
    {
     "data": {
      "text/html": [
       "<code>#f</code>"
      ],
      "text/plain": [
       "#f"
      ]
     },
     "execution_count": 44,
     "metadata": {},
     "output_type": "execute_result"
    }
   ],
   "source": [
    "(= a b)"
   ]
  },
  {
   "cell_type": "code",
   "execution_count": 45,
   "metadata": {
    "pycharm": {
     "name": "#%%\n"
    },
    "vscode": {
     "languageId": "racket"
    }
   },
   "outputs": [
    {
     "data": {
      "text/html": [
       "<code>4</code>"
      ],
      "text/plain": [
       "4"
      ]
     },
     "execution_count": 45,
     "metadata": {},
     "output_type": "execute_result"
    }
   ],
   "source": [
    "(if (and (> b a) (< b (* a b)))\n",
    "    b\n",
    "    a)"
   ]
  },
  {
   "cell_type": "code",
   "execution_count": 46,
   "metadata": {
    "pycharm": {
     "name": "#%%\n"
    },
    "vscode": {
     "languageId": "racket"
    }
   },
   "outputs": [
    {
     "data": {
      "text/html": [
       "<code>16</code>"
      ],
      "text/plain": [
       "16"
      ]
     },
     "execution_count": 46,
     "metadata": {},
     "output_type": "execute_result"
    }
   ],
   "source": [
    "(cond ((= a 4) 6)\n",
    "      ((= b 4) (+ 6 7 a))\n",
    "      (else 25))"
   ]
  },
  {
   "cell_type": "code",
   "execution_count": 47,
   "metadata": {
    "pycharm": {
     "name": "#%%\n"
    },
    "vscode": {
     "languageId": "racket"
    }
   },
   "outputs": [
    {
     "data": {
      "text/html": [
       "<code>6</code>"
      ],
      "text/plain": [
       "6"
      ]
     },
     "execution_count": 47,
     "metadata": {},
     "output_type": "execute_result"
    }
   ],
   "source": [
    "(+ 2 (if (> b a) b a))"
   ]
  },
  {
   "cell_type": "code",
   "execution_count": 48,
   "metadata": {
    "pycharm": {
     "name": "#%%\n"
    },
    "vscode": {
     "languageId": "racket"
    }
   },
   "outputs": [
    {
     "data": {
      "text/html": [
       "<code>16</code>"
      ],
      "text/plain": [
       "16"
      ]
     },
     "execution_count": 48,
     "metadata": {},
     "output_type": "execute_result"
    }
   ],
   "source": [
    "(* (cond ((> a b) a)\n",
    "         ((< a b) b)\n",
    "         (else -1))\n",
    "   (+ a 1))"
   ]
  },
  {
   "cell_type": "markdown",
   "metadata": {
    "pycharm": {
     "name": "#%% md\n"
    }
   },
   "source": [
    "## Exercise 1.2\n",
    "Translate the following expression into prefix form\n",
    "$$\n",
    "\\frac{5+4+(2-(3-(6+\\frac{4}{3})))}{3(6-2)(2-7)}\n",
    "$$"
   ]
  },
  {
   "cell_type": "code",
   "execution_count": 49,
   "metadata": {
    "pycharm": {
     "name": "#%%\n"
    },
    "vscode": {
     "languageId": "racket"
    }
   },
   "outputs": [
    {
     "data": {
      "text/html": [
       "<code>-23/90</code>"
      ],
      "text/plain": [
       "-23/90"
      ]
     },
     "execution_count": 49,
     "metadata": {},
     "output_type": "execute_result"
    }
   ],
   "source": [
    "(/ (+ 5 4 (- 2\n",
    "             (- 3\n",
    "                (+ 6 (/ 4 3)))))\n",
    "   (* 3 (- 6 2) (- 2 7)))"
   ]
  },
  {
   "cell_type": "markdown",
   "metadata": {
    "pycharm": {
     "name": "#%% md\n"
    }
   },
   "source": [
    "## Exercise 1.3\n",
    "Define a procedure that takes three numbers as arguments and returns the sum of the squares of the two larger numbers."
   ]
  },
  {
   "cell_type": "code",
   "execution_count": 50,
   "metadata": {
    "pycharm": {
     "name": "#%%\n"
    },
    "vscode": {
     "languageId": "racket"
    }
   },
   "outputs": [],
   "source": [
    "(define (square x)\n",
    "  (* x x))\n",
    "(define (sum_of_squares a b)\n",
    "  (+ (square a) (square b)))\n",
    "(define (sum_square_of_two_larger x y z)\n",
    "  (cond ((and (> x z) (> y z))\n",
    "        (sum_of_squares x y))\n",
    "        ((> x y)\n",
    "         (sum_of_squares x z))\n",
    "        (else (sum_of_squares y z))))"
   ]
  },
  {
   "cell_type": "markdown",
   "metadata": {
    "pycharm": {
     "name": "#%% md\n"
    }
   },
   "source": [
    "## Exercise 1.4\n",
    "Observe that our model of evaluation allows for combinations whose operators are compound expressions. Use this observation to describe the behavior of the following procedure:\n",
    "```racket\n",
    "(define (a-plus-abs-b a b)\n",
    "  ((if (> b 0) + -) a b))\n",
    "```"
   ]
  },
  {
   "cell_type": "markdown",
   "metadata": {
    "pycharm": {
     "name": "#%% md\n"
    }
   },
   "source": [
    "When we evalute `(a-plus-abs-b a b)`, operator part `(if (> b 0) + -)` will be evaluted first. If `b` is positive, then `(+ a b)` will be evaluated. If `b` is negative, then `(- a b)` will be evaluated."
   ]
  },
  {
   "cell_type": "markdown",
   "metadata": {
    "pycharm": {
     "name": "#%% md\n"
    }
   },
   "source": [
    "## Exercise 1.5\n",
    "Ben Bitdiddle has invented a test to determine whether the interpreter he is faced with is using applicative-order evaluation or normal-order evaluation. He defines the following two procedures:\n",
    "```racket\n",
    "(define (p) (p))\n",
    "\n",
    "(define (test x y)\n",
    "  (if (= x 0)\n",
    "      0\n",
    "      y))\n",
    "```\n",
    "Then he evaluates the expression\n",
    "```racket\n",
    "(test 0 (p))\n",
    "```\n",
    "What behavior will Ben observe with an interpreter that uses applicative-order evaluation? What behavior will he observe with an interpreter that uses normal-order evaluation? Explain your answer. (Assume that the evaluation rule for the special form `if` is the same whether the interpreter is using normal or applicative order: The predicate expression is evaluated first, and the result determines whether to evaluate the consequent or the alternative expression.)"
   ]
  },
  {
   "cell_type": "markdown",
   "metadata": {
    "pycharm": {
     "name": "#%% md\n"
    }
   },
   "source": [
    "Applicative-order:</br>\n",
    "The operator with `if` will be evalute first, then we get 0 directly.</br>\n",
    "Normal-order:</br>\n",
    "To substitute `(p)`, we get another `(p)` in `(test 0 (p))` , it's a infinite loop.</br>"
   ]
  },
  {
   "cell_type": "markdown",
   "metadata": {
    "pycharm": {
     "name": "#%% md\n"
    }
   },
   "source": [
    "## Exercise 1.6\n",
    "Alyssa P. Hacker doesn't see why `if` needs to be provided as a special form. ``Why can't I just define it as an ordinary procedure in terms of `cond`?'' she asks. Alyssa's friend Eva Lu Ator claims this can indeed be done, and she defines a new version of `if`:\n",
    "\n",
    "```racket\n",
    "(define (new-if predicate then-clause else-clause)\n",
    "  (cond (predicate then-clause)\n",
    "        (else else-clause)))\n",
    "```\n",
    "Eva demonstrates the program for Alyssa:\n",
    "\n",
    "```racket\n",
    "(new-if (= 2 3) 0 5)\n",
    "5\n",
    "```\n",
    "\n",
    "```racket\n",
    "(new-if (= 1 1) 0 5)\n",
    "0\n",
    "```\n",
    "Delighted, Alyssa uses `new-if` to rewrite the square-root program:\n",
    "\n",
    "```racket\n",
    "(define (sqrt-iter guess x)\n",
    "  (new-if (good-enough? guess x)\n",
    "          guess\n",
    "          (sqrt-iter (improve guess x)\n",
    "                     x)))\n",
    "```\n",
    "What happens when Alyssa attempts to use this to compute square roots? Explain."
   ]
  },
  {
   "cell_type": "markdown",
   "metadata": {
    "pycharm": {
     "name": "#%% md\n"
    }
   },
   "source": [
    "Using `new-if`, it takes long time without respon.\n",
    "\n",
    "Becase `new-if` is a function. It must evaluate `sqrt-iter` in operand first, so it falls in to a infinite loop.But `if` is a special from, only if the `<predicate>` is `#f`,  `<alternative>` will be evaluted."
   ]
  },
  {
   "cell_type": "markdown",
   "metadata": {},
   "source": [
    "## Exercise 1.7\n",
    "The `good-enough?` test used in computing square roots will not be very effective for finding the square roots of very small numbers. Also, in real computers, arithmetic operations are almost always performed with limited precision. This makes our test inadequate for very large numbers. Explain these statements, with examples showing how the test fails for small and large numbers. An alternative strategy for implementing `good-enough?` is to watch how `guess` changes from one iteration to the next and to stop when the change is a very small fraction of the guess. Design a square-root procedure that uses this kind of end test. Does this work better for small and large numbers?"
   ]
  },
  {
   "cell_type": "markdown",
   "metadata": {},
   "source": [
    "eg. For `(sqrt 0.0000000000001)` or `(sqrt 30864197530864197530864197530864197530864197530864197524691358024691358024691358024691358024691358024691358025)` the process dosen't work.\n",
    "The improved program is below:"
   ]
  },
  {
   "cell_type": "code",
   "execution_count": 51,
   "metadata": {
    "vscode": {
     "languageId": "racket"
    }
   },
   "outputs": [],
   "source": [
    "(define (improve guess x)\n",
    "  (average guess (/ x guess)))\n",
    "(define (average x y)\n",
    "  (/ (+ x y) 2))\n",
    "(define (good-enough? guess old-guess)\n",
    "  (< (/ (abs (- old-guess guess)) 2) 0.001))\n",
    "(define (sqrt x)\n",
    "  (sqrt-iter 1.0 0.0 x))\n",
    "(define (sqrt-iter guess old-guess x)\n",
    "  (if (good-enough? guess old-guess)\n",
    "          guess\n",
    "          (sqrt-iter (improve guess x)\n",
    "                     guess\n",
    "                     x)))"
   ]
  },
  {
   "cell_type": "markdown",
   "metadata": {},
   "source": [
    "## Exercise 1.8\n",
    "Newton's method for cube roots is based on the fact that if y is an approximation to the cube root of x, then a better approximation is given by the value\n",
    "$$\\frac{x/y^2+2y}{3}$$\n",
    "Use this formula to implement a cube-root procedure analogous to the square-root procedure. (In section 1.3.4 we will see how to implement Newton's method in general as an abstraction of these square-root and cube-root procedures.)"
   ]
  },
  {
   "cell_type": "code",
   "execution_count": 52,
   "metadata": {
    "vscode": {
     "languageId": "racket"
    }
   },
   "outputs": [],
   "source": [
    "(define (improve guess x)\n",
    "  (/ (+ (/ x (* guess guess)) (* 2 guess))\n",
    "     3))\n",
    "(define (good-enough? guess old-guess)\n",
    "  (< (/ (abs (- old-guess guess)) 2) 0.001))\n",
    "(define (cube-root x)\n",
    "  (cube-root-iter 1.0 0.0 x))\n",
    "(define (cube-root-iter guess old-guess x)\n",
    "  (if (good-enough? guess old-guess)\n",
    "          guess\n",
    "          (cube-root-iter (improve guess x)\n",
    "                     guess\n",
    "                     x)))"
   ]
  },
  {
   "cell_type": "markdown",
   "metadata": {},
   "source": [
    "## Exercise 1.9\n",
    "Each of the following two procedures defines a method for adding two positive integers in terms of the procedures `inc`, which increments its argument by 1, and `dec`, which decrements its argument by 1.\n",
    "```racket\n",
    "(define (+ a b)\n",
    "  (if (= a 0)\n",
    "      b\n",
    "      (inc (+ (dec a) b))))\n",
    "\n",
    "(define (+ a b)\n",
    "  (if (= a 0)\n",
    "      b\n",
    "      (+ (dec a) (inc b))))\n",
    "```\n",
    "Using the substitution model, illustrate the process generated by each procedure in evaluating `(+ 4 5)`. Are these processes iterative or recursive?"
   ]
  },
  {
   "cell_type": "markdown",
   "metadata": {},
   "source": [
    "For the first process\n",
    "```racket\n",
    "(+ 4 5)\n",
    "(inc (+ 3 5))\n",
    "(inc (inc (+ 2 5)))\n",
    "(inc (inc (inc (+ 1 5))))\n",
    "(inc (inc (inc (inc (+ 0 5)))))\n",
    "(inc (inc (inc (inc 5))))\n",
    "(inc (inc (inc 6)))\n",
    "(inc (inc 7))\n",
    "(inc 8)\n",
    "9\n",
    "```\n",
    "This is a recursive process.\n",
    "```racket\n",
    "(+ 4 5)\n",
    "(+ 3 6)\n",
    "(+ 2 7)\n",
    "(+ 1 8)\n",
    "(+ 0 9)\n",
    "9\n",
    "```\n",
    "This is a iterative process."
   ]
  },
  {
   "cell_type": "markdown",
   "metadata": {},
   "source": [
    "## Exercise 1.10\n",
    "The following procedure computes a mathematical function called Ackermann's function.\n",
    "```racket\n",
    "(define (A x y)\n",
    "  (cond ((= y 0) 0)\n",
    "        ((= x 0) (* 2 y))\n",
    "        ((= y 1) 2)\n",
    "        (else (A (- x 1)\n",
    "                 (A x (- y 1))))))\n",
    "```\n",
    "What are the values of the following expressions?\n",
    "```racket\n",
    "(A 1 10)\n",
    "(A 2 4)\n",
    "(A 3 3)\n",
    "```\n",
    "Consider the following procedures, where A is the procedure defined above:\n",
    "```racket\n",
    "(define (f n) (A 0 n))\n",
    "(define (g n) (A 1 n))\n",
    "(define (h n) (A 2 n))\n",
    "(define (k n) (* 5 n n))\n",
    "```\n",
    "Give concise mathematical definitions for the functions computed by the procedures `f`, `g`, and `h` for positive integer values of $n$. For example, `(k n)` computes $5n^2$.\n"
   ]
  },
  {
   "cell_type": "code",
   "execution_count": 53,
   "metadata": {
    "vscode": {
     "languageId": "racket"
    }
   },
   "outputs": [],
   "source": [
    "(define (A x y)\n",
    "  (cond ((= y 0) 0)\n",
    "        ((= x 0) (* 2 y))\n",
    "        ((= y 1) 2)\n",
    "        (else (A (- x 1)\n",
    "                 (A x (- y 1))))))"
   ]
  },
  {
   "cell_type": "code",
   "execution_count": 54,
   "metadata": {
    "vscode": {
     "languageId": "racket"
    }
   },
   "outputs": [
    {
     "data": {
      "text/html": [
       "<code>1024</code>"
      ],
      "text/plain": [
       "1024"
      ]
     },
     "execution_count": 54,
     "metadata": {},
     "output_type": "execute_result"
    }
   ],
   "source": [
    "(A 1 10)"
   ]
  },
  {
   "cell_type": "code",
   "execution_count": 55,
   "metadata": {
    "vscode": {
     "languageId": "racket"
    }
   },
   "outputs": [
    {
     "data": {
      "text/html": [
       "<code>65536</code>"
      ],
      "text/plain": [
       "65536"
      ]
     },
     "execution_count": 55,
     "metadata": {},
     "output_type": "execute_result"
    }
   ],
   "source": [
    "(A 2 4)"
   ]
  },
  {
   "cell_type": "code",
   "execution_count": 56,
   "metadata": {
    "vscode": {
     "languageId": "racket"
    }
   },
   "outputs": [
    {
     "data": {
      "text/html": [
       "<code>65536</code>"
      ],
      "text/plain": [
       "65536"
      ]
     },
     "execution_count": 56,
     "metadata": {},
     "output_type": "execute_result"
    }
   ],
   "source": [
    "(A 3 3)"
   ]
  },
  {
   "cell_type": "markdown",
   "metadata": {},
   "source": [
    "`(f n)` computes $2n$</br>\n",
    "`(g n)` computes $2^n$</br>\n",
    "`(h n)` computes $2$ square $n - 1$ times and when $n = 0$, it's $0$"
   ]
  },
  {
   "cell_type": "markdown",
   "metadata": {},
   "source": [
    "## Exercise 1.11\n",
    "A function $f$ is defined by the rule that $f(n) = n$ if $n<3$ and $f(n) = f(n - 1) + 2f(n - 2) + 3f(n - 3)$ if $n> 3$. Write a procedure that computes $f$ by means of a recursive process. Write a procedure that computes $f$ by means of an iterative process."
   ]
  },
  {
   "cell_type": "code",
   "execution_count": 57,
   "metadata": {
    "vscode": {
     "languageId": "racket"
    }
   },
   "outputs": [],
   "source": [
    "; Recusive Process\n",
    "(define (f n)\n",
    "  (cond ((= n 0) 0)\n",
    "        ((= n 1) 1)\n",
    "        ((= n 2) 2)\n",
    "        (else (+ (f (- n 1))\n",
    "                 (* 2 (f (- n 2)))\n",
    "                 (* 3 (f (- n 3)))))))"
   ]
  },
  {
   "cell_type": "code",
   "execution_count": 58,
   "metadata": {
    "vscode": {
     "languageId": "racket"
    }
   },
   "outputs": [],
   "source": [
    "; Iterative Process\n",
    "(define (f n)\n",
    "  (define (iter a b c count)\n",
    "    (if (= count 0)\n",
    "        a\n",
    "        (iter b c (+ (* 3 a) (* 2 b) c) (- count 1))))\n",
    "  (iter 0 1 2 n))"
   ]
  }
 ],
 "metadata": {
  "interpreter": {
   "hash": "3067ead486e059ec00ffe7555bdb889e6e264a24dc711bf108106cc7baee8d5d"
  },
  "kernelspec": {
   "display_name": "Racket",
   "language": "racket",
   "name": "racket"
  },
  "language_info": {
   "codemirror_mode": "scheme",
   "file_extension": ".rkt",
   "mimetype": "text/x-racket",
   "name": "Racket",
   "pygments_lexer": "racket",
   "version": "8.4"
  }
 },
 "nbformat": 4,
 "nbformat_minor": 2
}
